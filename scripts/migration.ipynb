{
 "metadata": {
  "name": "",
  "signature": "sha256:4f904f5b726f02934bc54a586c1b578c6efaea138e61dbce01423792c81660b7"
 },
 "nbformat": 3,
 "nbformat_minor": 0,
 "worksheets": [
  {
   "cells": [
    {
     "cell_type": "code",
     "collapsed": false,
     "input": [
      "imgdir = u'/Users/tohodson/Desktop/projects/historic-urbana-webmap/website/historic_img/'\n",
      "path = u'/Users/tohodson/Desktop/projects/historic-urbana-webmap/website/modals/'\n",
      "modals = !ls ../modals/"
     ],
     "language": "python",
     "metadata": {},
     "outputs": [],
     "prompt_number": 13
    },
    {
     "cell_type": "code",
     "collapsed": false,
     "input": [
      "for i in modals"
     ],
     "language": "python",
     "metadata": {},
     "outputs": [
      {
       "output_type": "stream",
       "stream": "stdout",
       "text": [
        "README.md            historic_places.csv  \u001b[34mimg\u001b[m\u001b[m/                 \u001b[34mmodals\u001b[m\u001b[m/              \u001b[34msrc\u001b[m\u001b[m/\r\n",
        "\u001b[34mcss\u001b[m\u001b[m/                 historic_places.txt  index.html           \u001b[34mnotebook\u001b[m\u001b[m/\r\n"
       ]
      }
     ],
     "prompt_number": 12
    },
    {
     "cell_type": "code",
     "collapsed": false,
     "input": [
      "cd ../"
     ],
     "language": "python",
     "metadata": {},
     "outputs": [
      {
       "metadata": {},
       "output_type": "pyout",
       "prompt_number": 8,
       "text": [
        "u'/Users/tohodson/Desktop/projects/historic-urbana-webmap/website/notebook'"
       ]
      }
     ],
     "prompt_number": 8
    },
    {
     "cell_type": "code",
     "collapsed": false,
     "input": [
      "text ="
     ],
     "language": "python",
     "metadata": {},
     "outputs": []
    }
   ],
   "metadata": {}
  }
 ]
}